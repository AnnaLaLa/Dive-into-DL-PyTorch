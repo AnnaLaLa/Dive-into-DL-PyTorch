{
 "cells": [
  {
   "cell_type": "code",
   "execution_count": 1,
   "metadata": {},
   "outputs": [],
   "source": [
    "import torch"
   ]
  },
  {
   "cell_type": "code",
   "execution_count": 4,
   "metadata": {},
   "outputs": [],
   "source": [
    "x = torch.empty(5,3)"
   ]
  },
  {
   "cell_type": "code",
   "execution_count": 5,
   "metadata": {},
   "outputs": [],
   "source": [
    "x = torch.randn_like(x,dtype=torch.float)"
   ]
  },
  {
   "cell_type": "code",
   "execution_count": 6,
   "metadata": {},
   "outputs": [
    {
     "name": "stdout",
     "output_type": "stream",
     "text": [
      "tensor([[-0.9090,  0.4223,  1.4681],\n",
      "        [ 0.8408,  0.0901, -0.7545],\n",
      "        [-0.5929,  2.4216, -0.4295],\n",
      "        [-0.8655, -1.3516,  0.7628],\n",
      "        [ 0.5245,  1.2174,  0.5253]])\n"
     ]
    }
   ],
   "source": [
    "y = torch.rand(5,3)\n",
    "print(x + y)"
   ]
  },
  {
   "cell_type": "code",
   "execution_count": 7,
   "metadata": {},
   "outputs": [
    {
     "name": "stdout",
     "output_type": "stream",
     "text": [
      "tensor([[-0.9090,  0.4223,  1.4681],\n",
      "        [ 0.8408,  0.0901, -0.7545],\n",
      "        [-0.5929,  2.4216, -0.4295],\n",
      "        [-0.8655, -1.3516,  0.7628],\n",
      "        [ 0.5245,  1.2174,  0.5253]])\n"
     ]
    }
   ],
   "source": [
    "print(torch.add(x,y))"
   ]
  },
  {
   "cell_type": "code",
   "execution_count": 8,
   "metadata": {},
   "outputs": [
    {
     "name": "stdout",
     "output_type": "stream",
     "text": [
      "tensor([[-0.9090,  0.4223,  1.4681],\n",
      "        [ 0.8408,  0.0901, -0.7545],\n",
      "        [-0.5929,  2.4216, -0.4295],\n",
      "        [-0.8655, -1.3516,  0.7628],\n",
      "        [ 0.5245,  1.2174,  0.5253]])\n"
     ]
    }
   ],
   "source": [
    "result = torch.empty(5,3)\n",
    "torch.add(x,y,out=result)\n",
    "print(result)"
   ]
  },
  {
   "cell_type": "code",
   "execution_count": 9,
   "metadata": {},
   "outputs": [
    {
     "name": "stdout",
     "output_type": "stream",
     "text": [
      "tensor([[-0.9090,  0.4223,  1.4681],\n",
      "        [ 0.8408,  0.0901, -0.7545],\n",
      "        [-0.5929,  2.4216, -0.4295],\n",
      "        [-0.8655, -1.3516,  0.7628],\n",
      "        [ 0.5245,  1.2174,  0.5253]])\n"
     ]
    }
   ],
   "source": [
    "#adds x to y\n",
    "y.add_(x)\n",
    "print(y)"
   ]
  },
  {
   "cell_type": "code",
   "execution_count": 10,
   "metadata": {},
   "outputs": [
    {
     "name": "stdout",
     "output_type": "stream",
     "text": [
      "tensor([-0.1894,  0.8908,  2.0753])\n",
      "tensor([-0.1894,  0.8908,  2.0753])\n"
     ]
    }
   ],
   "source": [
    "y = x[0,:]\n",
    "y += 1\n",
    "print(y)\n",
    "print(x[0,:])"
   ]
  },
  {
   "cell_type": "code",
   "execution_count": 11,
   "metadata": {},
   "outputs": [
    {
     "name": "stdout",
     "output_type": "stream",
     "text": [
      "torch.Size([5, 3]) torch.Size([15]) torch.Size([3, 5])\n"
     ]
    }
   ],
   "source": [
    "y = x.view(15)\n",
    "z = x.view(-1,5)\n",
    "print(x.size(),y.size(),z.size())"
   ]
  },
  {
   "cell_type": "code",
   "execution_count": 12,
   "metadata": {},
   "outputs": [
    {
     "name": "stdout",
     "output_type": "stream",
     "text": [
      "tensor([[ 0.8106,  1.8908,  3.0753],\n",
      "        [ 1.0988,  0.8998, -0.2208],\n",
      "        [ 0.2172,  2.7402, -0.1990],\n",
      "        [-0.5330, -0.8807,  0.9748],\n",
      "        [ 1.2655,  2.0819,  1.1184]])\n",
      "tensor([ 0.8106,  1.8908,  3.0753,  1.0988,  0.8998, -0.2208,  0.2172,  2.7402,\n",
      "        -0.1990, -0.5330, -0.8807,  0.9748,  1.2655,  2.0819,  1.1184])\n"
     ]
    }
   ],
   "source": [
    "x += 1\n",
    "print(x)\n",
    "print(y)"
   ]
  },
  {
   "cell_type": "code",
   "execution_count": 13,
   "metadata": {},
   "outputs": [
    {
     "name": "stdout",
     "output_type": "stream",
     "text": [
      "tensor([[-0.1894,  0.8908,  2.0753],\n",
      "        [ 0.0988, -0.1002, -1.2208],\n",
      "        [-0.7828,  1.7402, -1.1990],\n",
      "        [-1.5330, -1.8807, -0.0252],\n",
      "        [ 0.2655,  1.0819,  0.1184]])\n",
      "tensor([ 0.8106,  1.8908,  3.0753,  1.0988,  0.8998, -0.2208,  0.2172,  2.7402,\n",
      "        -0.1990, -0.5330, -0.8807,  0.9748,  1.2655,  2.0819,  1.1184])\n"
     ]
    }
   ],
   "source": [
    "x_cp = x.clone().view(15)\n",
    "x -= 1\n",
    "print(x)\n",
    "print(x_cp)"
   ]
  },
  {
   "cell_type": "code",
   "execution_count": 14,
   "metadata": {},
   "outputs": [
    {
     "name": "stdout",
     "output_type": "stream",
     "text": [
      "tensor([0.9807])\n",
      "0.9806999564170837\n"
     ]
    }
   ],
   "source": [
    "x = torch.randn(1)\n",
    "print(x)\n",
    "print(x.item())"
   ]
  },
  {
   "cell_type": "code",
   "execution_count": null,
   "metadata": {},
   "outputs": [],
   "source": []
  }
 ],
 "metadata": {
  "kernelspec": {
   "display_name": "Python 3",
   "language": "python",
   "name": "python3"
  },
  "language_info": {
   "codemirror_mode": {
    "name": "ipython",
    "version": 3
   },
   "file_extension": ".py",
   "mimetype": "text/x-python",
   "name": "python",
   "nbconvert_exporter": "python",
   "pygments_lexer": "ipython3",
   "version": "3.7.6"
  }
 },
 "nbformat": 4,
 "nbformat_minor": 4
}
