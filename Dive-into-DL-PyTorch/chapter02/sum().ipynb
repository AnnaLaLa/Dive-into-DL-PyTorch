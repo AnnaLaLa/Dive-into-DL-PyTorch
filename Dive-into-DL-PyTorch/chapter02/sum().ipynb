{
 "cells": [
  {
   "cell_type": "code",
   "execution_count": 1,
   "metadata": {},
   "outputs": [],
   "source": [
    "import torch"
   ]
  },
  {
   "cell_type": "code",
   "execution_count": 8,
   "metadata": {},
   "outputs": [
    {
     "name": "stdout",
     "output_type": "stream",
     "text": [
      "torch.Size([2, 3, 2])\n",
      "tensor([[[0.1714, 0.2779],\n",
      "         [0.6835, 0.0660],\n",
      "         [0.8621, 0.9857]],\n",
      "\n",
      "        [[0.6406, 0.8478],\n",
      "         [0.7297, 0.1562],\n",
      "         [0.8629, 0.7633]]])\n"
     ]
    }
   ],
   "source": [
    "a = torch.rand((2,3,2))\n",
    "print(a.size())\n",
    "print(a)"
   ]
  },
  {
   "cell_type": "code",
   "execution_count": 9,
   "metadata": {},
   "outputs": [
    {
     "name": "stdout",
     "output_type": "stream",
     "text": [
      "torch.Size([3, 2])\n",
      "tensor([[0.8120, 1.1257],\n",
      "        [1.4132, 0.2222],\n",
      "        [1.7250, 1.7490]])\n"
     ]
    }
   ],
   "source": [
    "c = torch.sum(a,dim=0)#分别对应位置相加\n",
    "print(c.size())\n",
    "print(c)"
   ]
  }
 ],
 "metadata": {
  "kernelspec": {
   "display_name": "Python 3",
   "language": "python",
   "name": "python3"
  },
  "language_info": {
   "codemirror_mode": {
    "name": "ipython",
    "version": 3
   },
   "file_extension": ".py",
   "mimetype": "text/x-python",
   "name": "python",
   "nbconvert_exporter": "python",
   "pygments_lexer": "ipython3",
   "version": "3.7.6"
  }
 },
 "nbformat": 4,
 "nbformat_minor": 4
}
