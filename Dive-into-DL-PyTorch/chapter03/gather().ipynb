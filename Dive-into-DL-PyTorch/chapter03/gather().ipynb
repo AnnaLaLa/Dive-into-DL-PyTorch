{
 "cells": [
  {
   "cell_type": "code",
   "execution_count": 1,
   "metadata": {},
   "outputs": [],
   "source": [
    "import torch"
   ]
  },
  {
   "cell_type": "code",
   "execution_count": 9,
   "metadata": {},
   "outputs": [],
   "source": [
    "a = torch.Tensor([[1,2],[3,4]])\n",
    "b = torch.gather(a,dim=0,index=torch.LongTensor([[0,1]]))"
   ]
  },
  {
   "cell_type": "code",
   "execution_count": 10,
   "metadata": {},
   "outputs": [
    {
     "name": "stdout",
     "output_type": "stream",
     "text": [
      "tensor([[1., 2.],\n",
      "        [3., 4.]])\n",
      "tensor([[1., 4.]])\n"
     ]
    }
   ],
   "source": [
    "print(a)\n",
    "print(b)"
   ]
  },
  {
   "cell_type": "code",
   "execution_count": 11,
   "metadata": {},
   "outputs": [],
   "source": [
    "# a的dim=0,即 行方向的维度和index的维度是匹配的，就是说，a和index由行方向从左往右看，\n",
    "# 有2列，即有2个样本，行方向是匹配的。另外，函数输出的Tensor和index大小相同\n",
    "#以上代码逻辑：由行从左往右看，有两个样本，索引分别为0和1；每个样本有两个特征，\n",
    "#每个特征中从上往下索引分别为0和1；依据index中的索引值，取第0样本的第0个特征，\n",
    "#再取第1个样本的第1个特征"
   ]
  },
  {
   "cell_type": "code",
   "execution_count": 21,
   "metadata": {},
   "outputs": [],
   "source": [
    "c = torch.Tensor([[11,22],[33,44]])\n",
    "d = torch.gather(c,dim=1,index=torch.LongTensor([[0],[1]]))"
   ]
  },
  {
   "cell_type": "code",
   "execution_count": 22,
   "metadata": {},
   "outputs": [
    {
     "name": "stdout",
     "output_type": "stream",
     "text": [
      "tensor([[11., 22.],\n",
      "        [33., 44.]])\n",
      "tensor([[11.],\n",
      "        [44.]])\n"
     ]
    }
   ],
   "source": [
    "print(c)\n",
    "print(d)"
   ]
  },
  {
   "cell_type": "code",
   "execution_count": 23,
   "metadata": {},
   "outputs": [],
   "source": [
    "#由列从上往下看，有两个样本，索引分别为0和1；每个样本有两个特征\n",
    "#每个特征中从左往右索引分别为0和1；依据index中的索引值，取第0个样本的第0个特别\n",
    "#再取第一个样本的第一个特征"
   ]
  },
  {
   "cell_type": "code",
   "execution_count": 27,
   "metadata": {},
   "outputs": [],
   "source": [
    "e = torch.Tensor([[1,2],[3,4]])\n",
    "f = torch.gather(e,dim=0,index=torch.LongTensor([[0,0],[1,0]]))"
   ]
  },
  {
   "cell_type": "code",
   "execution_count": 29,
   "metadata": {},
   "outputs": [
    {
     "name": "stdout",
     "output_type": "stream",
     "text": [
      "a =  tensor([[1., 2.],\n",
      "        [3., 4.]])\n",
      "b =  tensor([[1., 2.],\n",
      "        [3., 2.]])\n"
     ]
    }
   ],
   "source": [
    "print('a = ',e)\n",
    "print('b = ',f)"
   ]
  },
  {
   "cell_type": "code",
   "execution_count": null,
   "metadata": {},
   "outputs": [],
   "source": [
    "#LongTensor是64位整型"
   ]
  }
 ],
 "metadata": {
  "kernelspec": {
   "display_name": "Python 3",
   "language": "python",
   "name": "python3"
  },
  "language_info": {
   "codemirror_mode": {
    "name": "ipython",
    "version": 3
   },
   "file_extension": ".py",
   "mimetype": "text/x-python",
   "name": "python",
   "nbconvert_exporter": "python",
   "pygments_lexer": "ipython3",
   "version": "3.7.6"
  }
 },
 "nbformat": 4,
 "nbformat_minor": 4
}
