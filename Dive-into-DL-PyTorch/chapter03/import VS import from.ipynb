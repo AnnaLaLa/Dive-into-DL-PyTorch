{
 "cells": [
  {
   "cell_type": "code",
   "execution_count": 3,
   "metadata": {},
   "outputs": [],
   "source": [
    "#函数文件，函数文件名为wangke\n",
    "def add(a,b):\n",
    "    return a+b\n",
    "def sub(a,b):\n",
    "    return a-b"
   ]
  },
  {
   "cell_type": "code",
   "execution_count": null,
   "metadata": {},
   "outputs": [],
   "source": [
    "#主函数有两种写法\n",
    "#第一种写法\n",
    "from wangke import add\n",
    "from wangke import sub\n",
    "a = add(1,2)\n",
    "b = sub(1,3)"
   ]
  },
  {
   "cell_type": "code",
   "execution_count": null,
   "metadata": {},
   "outputs": [],
   "source": [
    "#第二种写法\n",
    "import wangke\n",
    "c = wangke.add(1,2)\n",
    "d = wangke.sub(1,3)"
   ]
  },
  {
   "cell_type": "code",
   "execution_count": 5,
   "metadata": {},
   "outputs": [
    {
     "ename": "SyntaxError",
     "evalue": "unexpected EOF while parsing (<ipython-input-5-c86faa6337c0>, line 14)",
     "output_type": "error",
     "traceback": [
      "\u001b[1;36m  File \u001b[1;32m\"<ipython-input-5-c86faa6337c0>\"\u001b[1;36m, line \u001b[1;32m14\u001b[0m\n\u001b[1;33m    def sub(self,a,b):\u001b[0m\n\u001b[1;37m                      ^\u001b[0m\n\u001b[1;31mSyntaxError\u001b[0m\u001b[1;31m:\u001b[0m unexpected EOF while parsing\n"
     ]
    }
   ],
   "source": [
    "#调用类中的函数\n",
    "#类文件，类文件名为wangke1\n",
    "class aaa:\n",
    "    a=1 #对象的属性\n",
    "    b=2 #对象的属性\n",
    "    def _init_(self,name):\n",
    "        self.name=name #对象的属性\n",
    "        name1 = 1 #函数的属性\n",
    "    def add(self,a,b):\n",
    "        slef.a = a\n",
    "        self.b = b\n",
    "        dd = 2\n",
    "        return self.a+self.b\n",
    "    def sub(self,a,b):\n",
    "        self.a = a\n",
    "        slef.b = b\n",
    "        return self.a-self.b"
   ]
  },
  {
   "cell_type": "code",
   "execution_count": null,
   "metadata": {},
   "outputs": [],
   "source": [
    "#第一种写法\n",
    "from wangke1 import aaa\n",
    "aa = aaa('lihaha')\n",
    "print(aa.name)"
   ]
  },
  {
   "cell_type": "code",
   "execution_count": null,
   "metadata": {},
   "outputs": [],
   "source": [
    "#第二种写法\n",
    "import wangke1\n",
    "aa = wangke1.aaa('lihaha')\n",
    "print(aa.name)"
   ]
  },
  {
   "cell_type": "code",
   "execution_count": null,
   "metadata": {},
   "outputs": [],
   "source": []
  }
 ],
 "metadata": {
  "kernelspec": {
   "display_name": "Python 3",
   "language": "python",
   "name": "python3"
  },
  "language_info": {
   "codemirror_mode": {
    "name": "ipython",
    "version": 3
   },
   "file_extension": ".py",
   "mimetype": "text/x-python",
   "name": "python",
   "nbconvert_exporter": "python",
   "pygments_lexer": "ipython3",
   "version": "3.7.6"
  }
 },
 "nbformat": 4,
 "nbformat_minor": 4
}
