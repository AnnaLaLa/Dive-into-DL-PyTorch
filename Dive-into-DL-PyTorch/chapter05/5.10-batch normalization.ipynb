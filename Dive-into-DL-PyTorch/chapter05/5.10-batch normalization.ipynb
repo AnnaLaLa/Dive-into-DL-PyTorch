{
 "cells": [
  {
   "cell_type": "code",
   "execution_count": 18,
   "metadata": {},
   "outputs": [],
   "source": [
    "import time\n",
    "import torch\n",
    "from torch import nn,optim\n",
    "import sys\n",
    "sys.path.append(\"..\")\n",
    "import d2lzh_pytorch as d2l\n",
    "device = torch.device('cuda' if torch.cuda.is_available() else 'cpu')\n",
    "import torch.nn.functional as F"
   ]
  },
  {
   "cell_type": "code",
   "execution_count": 19,
   "metadata": {},
   "outputs": [],
   "source": [
    "def batch_norm(is_training,X,gamma,beta,moving_mean,moving_var,eps,momentum):\n",
    "    if not is_training:\n",
    "        X_hat = (X - moving_mean) / torch.sqrt(moving_var + eps)\n",
    "    else:\n",
    "        assert len(X.shape) in (2,4)\n",
    "        if len(X.shape) == 2:\n",
    "            mean = X.mean(dim=0)\n",
    "            var = ((X - mean)**2).mean(dim=0)\n",
    "        else:\n",
    "            mean = X.mean(dim=0,keepdim=True).mean(dim=2,keepdim=True).mean(dim=3,keepdim=True)\n",
    "            var = ((X - mean)**2).mean(dim=0,keepdim=True).mean(dim=2,keepdim=True).mean(dim=3,keepdim=True)\n",
    "        X_hat = (X - mean) / torch.sqrt(var+eps)\n",
    "        moving_mean = momentum * moving_mean + (1.0 - momentum) * mean\n",
    "        moving_var = momentum * moving_var + (1.0 - momentum) * var\n",
    "    Y = gamma * X_hat + beta\n",
    "    return Y,moving_mean,moving_var"
   ]
  },
  {
   "cell_type": "code",
   "execution_count": 20,
   "metadata": {},
   "outputs": [],
   "source": [
    "class BatchNorm(nn.Module):\n",
    "    def __init__(self,num_features,num_dims):\n",
    "        super(BatchNorm,self).__init__()\n",
    "        if num_dims == 2:\n",
    "            shape = (1,num_features)\n",
    "        else:\n",
    "            shape = (1,num_features,1,1)\n",
    "        self.gamma = nn.Parameter(torch.ones(shape))\n",
    "        self.beta = nn.Parameter(torch.zeros(shape))\n",
    "        self.moving_mean = torch.zeros(shape)\n",
    "        self.moving_var = torch.zeros(shape)\n",
    "    def forward(self,X):\n",
    "        if self.moving_mean.device != X.device:\n",
    "            self.moving_mean = self.moving_mean.to(X.device)\n",
    "            self.moving_var = self.moving_var.to(X.device)\n",
    "        Y,self.moving_mean,self.moving_var = batch_norm(self.training,\n",
    "                                                       X,self.gamma,self.beta,self.moving_mean,\n",
    "                                                       self.moving_var,eps=1e-5,momentum=0.9)\n",
    "        return Y"
   ]
  },
  {
   "cell_type": "code",
   "execution_count": 21,
   "metadata": {},
   "outputs": [],
   "source": [
    "#使用批量归一化层的LeNet\n",
    "net = nn.Sequential(nn.Conv2d(1,6,5),\n",
    "                   BatchNorm(6,num_dims=4),\n",
    "                   nn.Sigmoid(),\n",
    "                   nn.MaxPool2d(2,2),\n",
    "                   nn.Conv2d(6,16,5),\n",
    "                   BatchNorm(16,num_dims=4),\n",
    "                   nn.Sigmoid(),\n",
    "                   nn.MaxPool2d(2,2),\n",
    "                   d2l.FlattenLayer(),\n",
    "                   nn.Linear(16*4*4,120),\n",
    "                   BatchNorm(120,num_dims=2),\n",
    "                   nn.Sigmoid(),\n",
    "                   nn.Linear(120,84),\n",
    "                   BatchNorm(84,num_dims=2),\n",
    "                   nn.Sigmoid(),\n",
    "                   nn.Linear(84,10))"
   ]
  },
  {
   "cell_type": "code",
   "execution_count": 22,
   "metadata": {},
   "outputs": [
    {
     "name": "stdout",
     "output_type": "stream",
     "text": [
      "training on  cuda\n",
      "epoch 1, loss 0.9931, train acc 0.780, test acc 0.831, time 20.2 sec\n",
      "epoch 2, loss 0.4576, train acc 0.863, test acc 0.819, time 19.8 sec\n",
      "epoch 3, loss 0.3625, train acc 0.879, test acc 0.786, time 19.8 sec\n",
      "epoch 4, loss 0.3258, train acc 0.888, test acc 0.870, time 19.9 sec\n",
      "epoch 5, loss 0.3029, train acc 0.895, test acc 0.849, time 19.9 sec\n"
     ]
    }
   ],
   "source": [
    "batch_size = 256\n",
    "train_iter,test_iter = d2l.load_data_fashion_mnist(batch_size=batch_size)\n",
    "lr,num_epochs = 0.001,5\n",
    "optimizer = torch.optim.Adam(net.parameters(),lr=lr)\n",
    "d2l.train_ch5(net,train_iter,test_iter,batch_size,optimizer,device,num_epochs)"
   ]
  },
  {
   "cell_type": "code",
   "execution_count": 23,
   "metadata": {},
   "outputs": [
    {
     "data": {
      "text/plain": [
       "(tensor([1.1455, 0.8896, 1.1991, 0.9443, 1.1923, 1.0236], device='cuda:0',\n",
       "        grad_fn=<ViewBackward>),\n",
       " tensor([ 0.1991, -0.4676,  0.2946,  0.4281, -0.1175, -0.6195], device='cuda:0',\n",
       "        grad_fn=<ViewBackward>))"
      ]
     },
     "execution_count": 23,
     "metadata": {},
     "output_type": "execute_result"
    }
   ],
   "source": [
    "net[1].gamma.view((-1,)),net[1].beta.view((-1,))"
   ]
  },
  {
   "cell_type": "code",
   "execution_count": 27,
   "metadata": {},
   "outputs": [],
   "source": [
    "#用pytorch中nn模块简洁实现\n",
    "net = nn.Sequential(nn.Conv2d(1,6,5),\n",
    "                   nn.BatchNorm2d(6),\n",
    "                   nn.Sigmoid(),\n",
    "                   nn.MaxPool2d(2,2),\n",
    "                   nn.Conv2d(6,16,5),\n",
    "                   nn.BatchNorm2d(16),\n",
    "                   nn.Sigmoid(),nn.MaxPool2d(2,2),\n",
    "                   d2l.FlattenLayer(),\n",
    "                   nn.Linear(16*4*4,120),\n",
    "                   nn.BatchNorm1d(120),\n",
    "                   nn.Sigmoid(),\n",
    "                   nn.Linear(120,84),\n",
    "                   nn.BatchNorm1d(84),\n",
    "                   nn.Sigmoid(),\n",
    "                   nn.Linear(84,10)\n",
    "                   )"
   ]
  },
  {
   "cell_type": "code",
   "execution_count": 28,
   "metadata": {},
   "outputs": [
    {
     "name": "stdout",
     "output_type": "stream",
     "text": [
      "training on  cuda\n",
      "epoch 1, loss 0.9854, train acc 0.786, test acc 0.815, time 14.0 sec\n",
      "epoch 2, loss 0.4604, train acc 0.861, test acc 0.839, time 14.0 sec\n",
      "epoch 3, loss 0.3694, train acc 0.877, test acc 0.842, time 14.1 sec\n",
      "epoch 4, loss 0.3335, train acc 0.886, test acc 0.840, time 14.1 sec\n",
      "epoch 5, loss 0.3085, train acc 0.891, test acc 0.849, time 14.2 sec\n"
     ]
    }
   ],
   "source": [
    "batch_size = 256\n",
    "train_iter,test_iter = d2l.load_data_fashion_mnist(batch_size=batch_size)\n",
    "lr,num_epochs = 0.001,5\n",
    "optimizer = torch.optim.Adam(net.parameters(),lr=lr)\n",
    "d2l.train_ch5(net,train_iter,test_iter,batch_size,optimizer,device,num_epochs)"
   ]
  }
 ],
 "metadata": {
  "kernelspec": {
   "display_name": "Python 3",
   "language": "python",
   "name": "python3"
  },
  "language_info": {
   "codemirror_mode": {
    "name": "ipython",
    "version": 3
   },
   "file_extension": ".py",
   "mimetype": "text/x-python",
   "name": "python",
   "nbconvert_exporter": "python",
   "pygments_lexer": "ipython3",
   "version": "3.7.6"
  }
 },
 "nbformat": 4,
 "nbformat_minor": 4
}
